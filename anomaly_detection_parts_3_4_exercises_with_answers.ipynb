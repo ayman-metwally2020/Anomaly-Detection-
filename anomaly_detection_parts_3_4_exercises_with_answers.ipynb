{
  "cells": [
    {
      "cell_type": "markdown",
      "metadata": {
        "id": "view-in-github",
        "colab_type": "text"
      },
      "source": [
        "<a href=\"https://colab.research.google.com/github/ayman-metwally2020/Anomaly-Detection-/blob/main/anomaly_detection_parts_3_4_exercises_with_answers.ipynb\" target=\"_parent\"><img src=\"https://colab.research.google.com/assets/colab-badge.svg\" alt=\"Open In Colab\"/></a>"
      ]
    },
    {
      "cell_type": "markdown",
      "id": "819a8bab",
      "metadata": {
        "id": "819a8bab"
      },
      "source": [
        "## ANOMALY DETECTION DAY 2/ANOMALY DETECTION PART 3 EXERCISE ANSWERS ##\n",
        "#### Exercise 1 ####\n",
        "#### Task 1\n",
        "##### Import the required packages\n",
        "##### Set the working directory to data directory\n",
        "##### Print the working directory and the plot directory\n",
        "#### Result:\n"
      ]
    },
    {
      "cell_type": "code",
      "execution_count": 3,
      "id": "aca820a7",
      "metadata": {
        "colab": {
          "base_uri": "https://localhost:8080/"
        },
        "id": "aca820a7",
        "outputId": "acd1e179-0cd2-425c-bca7-6065477a074d"
      },
      "outputs": [
        {
          "output_type": "stream",
          "name": "stdout",
          "text": [
            "/\n",
            "//content/data\n"
          ]
        }
      ],
      "source": [
        "import os\n",
        "import pandas as pd\n",
        "import numpy as np\n",
        "import matplotlib.pyplot as plt\n",
        "import pickle\n",
        "from sklearn import metrics\n",
        "from sklearn.model_selection import train_test_split\n",
        "from sklearn.metrics import confusion_matrix, roc_auc_score\n",
        "from sklearn.neighbors import LocalOutlierFactor\n",
        "from sklearn.svm import OneClassSVM\n",
        "from sklearn.ensemble import IsolationForest\n",
        "# Set 'main_dir' to location of the project folder\n",
        "from pathlib import Path\n",
        "home_dir = Path(\".\").resolve()\n",
        "main_dir = home_dir.parent\n",
        "print(main_dir)\n",
        "data_dir = str(main_dir) + \"/content/data\"\n",
        "print(data_dir)\n"
      ]
    },
    {
      "cell_type": "markdown",
      "id": "3ed5feb4",
      "metadata": {
        "id": "3ed5feb4"
      },
      "source": [
        "#### Task 2\n",
        "##### Read in `seismic-hazards.csv` to a new dataframe `hazard`.\n",
        "##### Read the documentation to understand the variables https://archive.ics.uci.edu/ml/datasets/seismic-bumps#\n",
        "##### Explore the dataset by printing its head, info and shape.\n",
        "#### Result:\n"
      ]
    },
    {
      "cell_type": "code",
      "execution_count": 4,
      "id": "34d40e70",
      "metadata": {
        "colab": {
          "base_uri": "https://localhost:8080/"
        },
        "id": "34d40e70",
        "outputId": "ee046552-a68f-4f58-82b1-c7b812744efa"
      },
      "outputs": [
        {
          "output_type": "stream",
          "name": "stdout",
          "text": [
            "<class 'pandas.core.frame.DataFrame'>\n",
            "RangeIndex: 2584 entries, 0 to 2583\n",
            "Data columns (total 20 columns):\n",
            " #   Column          Non-Null Count  Dtype \n",
            "---  ------          --------------  ----- \n",
            " 0   id              2584 non-null   int64 \n",
            " 1   seismic         2584 non-null   object\n",
            " 2   seismoacoustic  2584 non-null   object\n",
            " 3   shift           2584 non-null   object\n",
            " 4   genergy         2584 non-null   int64 \n",
            " 5   gpuls           2584 non-null   int64 \n",
            " 6   gdenergy        2584 non-null   int64 \n",
            " 7   gdpuls          2584 non-null   int64 \n",
            " 8   ghazard         2584 non-null   object\n",
            " 9   nbumps          2584 non-null   int64 \n",
            " 10  nbumps2         2584 non-null   int64 \n",
            " 11  nbumps3         2584 non-null   int64 \n",
            " 12  nbumps4         2584 non-null   int64 \n",
            " 13  nbumps5         2584 non-null   int64 \n",
            " 14  nbumps6         2584 non-null   int64 \n",
            " 15  nbumps7         2584 non-null   int64 \n",
            " 16  nbumps89        2584 non-null   int64 \n",
            " 17  energy          2584 non-null   int64 \n",
            " 18  maxenergy       2584 non-null   int64 \n",
            " 19  class           2584 non-null   int64 \n",
            "dtypes: int64(16), object(4)\n",
            "memory usage: 403.9+ KB\n"
          ]
        }
      ],
      "source": [
        "hazard = pd.read_csv(str(data_dir)+'/seismic-hazard.csv')\n",
        "hazard.head()\n",
        "hazard.shape\n",
        "hazard.info()\n"
      ]
    },
    {
      "cell_type": "markdown",
      "id": "507f5ed7",
      "metadata": {
        "id": "507f5ed7"
      },
      "source": [
        "#### Task 3\n",
        "##### Drop all the non-numerical and id columns - `['seismic','seismoacoustic','shift','ghazard','id']`\n",
        "##### Save this subset as `hazard_sub` and print its head.\n",
        "#### Result:\n"
      ]
    },
    {
      "cell_type": "code",
      "execution_count": 5,
      "id": "e96b6fd9",
      "metadata": {
        "colab": {
          "base_uri": "https://localhost:8080/",
          "height": 178
        },
        "id": "e96b6fd9",
        "outputId": "612968f5-6391-4183-d361-123067e3103d"
      },
      "outputs": [
        {
          "output_type": "execute_result",
          "data": {
            "text/plain": [
              "class\n",
              "0    2414\n",
              "1     170\n",
              "Name: count, dtype: int64"
            ],
            "text/html": [
              "<div>\n",
              "<style scoped>\n",
              "    .dataframe tbody tr th:only-of-type {\n",
              "        vertical-align: middle;\n",
              "    }\n",
              "\n",
              "    .dataframe tbody tr th {\n",
              "        vertical-align: top;\n",
              "    }\n",
              "\n",
              "    .dataframe thead th {\n",
              "        text-align: right;\n",
              "    }\n",
              "</style>\n",
              "<table border=\"1\" class=\"dataframe\">\n",
              "  <thead>\n",
              "    <tr style=\"text-align: right;\">\n",
              "      <th></th>\n",
              "      <th>count</th>\n",
              "    </tr>\n",
              "    <tr>\n",
              "      <th>class</th>\n",
              "      <th></th>\n",
              "    </tr>\n",
              "  </thead>\n",
              "  <tbody>\n",
              "    <tr>\n",
              "      <th>0</th>\n",
              "      <td>2414</td>\n",
              "    </tr>\n",
              "    <tr>\n",
              "      <th>1</th>\n",
              "      <td>170</td>\n",
              "    </tr>\n",
              "  </tbody>\n",
              "</table>\n",
              "</div><br><label><b>dtype:</b> int64</label>"
            ]
          },
          "metadata": {},
          "execution_count": 5
        }
      ],
      "source": [
        "hazard_sub = hazard.drop(['seismic','seismoacoustic','shift','ghazard','id'], axis = 1)\n",
        "hazard_sub.head()\n",
        "hazard_sub['class'].value_counts()\n"
      ]
    },
    {
      "cell_type": "markdown",
      "id": "8f8ddf73",
      "metadata": {
        "id": "8f8ddf73"
      },
      "source": [
        "#### Task 4\n",
        "##### Split the subset to train and test.\n",
        "##### Now split the train dataset to `hazard` (class `1`) which has all outlier data and `non_hazard` (class `0`) which has all regular observations.\n",
        "##### Drop `class` variable from `non_hazard` dataframe.\n",
        "##### Append test dataset with `hazard`. Save the `class` variable from test as `actual_test`\n",
        "#### Result:\n"
      ]
    },
    {
      "cell_type": "code",
      "execution_count": 6,
      "id": "60b19754",
      "metadata": {
        "id": "60b19754"
      },
      "outputs": [],
      "source": [
        "train, test = train_test_split(hazard_sub, test_size=.30)\n",
        "# Split hazard vs non hazard.\n",
        "non_hazard = train[train['class']==0]\n",
        "hazard = train[train['class']==1]\n",
        "non_hazard = non_hazard.drop(['class'], axis = 1)\n",
        "test = pd.concat([test, hazard], ignore_index=True)\n",
        "actual_test = test['class']\n"
      ]
    },
    {
      "cell_type": "markdown",
      "id": "73770b30",
      "metadata": {
        "id": "73770b30"
      },
      "source": [
        "#### Task 5\n",
        "##### Instantiate a LOF with `n_neighbors` set to `5`, `contamination = 0.1` and `novelty = True` to `non_hazard`\n",
        "##### Fit the model with `non_hazard` data.\n",
        "##### Predict on hazard `test` and print first 5 predictions.\n",
        "#### Result:\n"
      ]
    },
    {
      "cell_type": "code",
      "execution_count": 7,
      "id": "00980cf5",
      "metadata": {
        "colab": {
          "base_uri": "https://localhost:8080/"
        },
        "id": "00980cf5",
        "outputId": "ecd9e4f2-0c0e-48e9-b815-67fec61be657"
      },
      "outputs": [
        {
          "output_type": "stream",
          "name": "stderr",
          "text": [
            "/usr/local/lib/python3.10/dist-packages/sklearn/base.py:493: UserWarning: X does not have valid feature names, but LocalOutlierFactor was fitted with feature names\n",
            "  warnings.warn(\n"
          ]
        },
        {
          "output_type": "execute_result",
          "data": {
            "text/plain": [
              "array([1, 1, 1, 1, 1])"
            ]
          },
          "metadata": {},
          "execution_count": 7
        }
      ],
      "source": [
        "lof = LocalOutlierFactor(n_neighbors = 5, metric = \"manhattan\", contamination = 0.1, novelty = True)\n",
        "# model fitting\n",
        "lof.fit(non_hazard)\n",
        "hazard_pred = lof.predict(test.iloc[:,:-1])\n",
        "hazard_pred[:5]\n"
      ]
    },
    {
      "cell_type": "markdown",
      "id": "bb431869",
      "metadata": {
        "id": "bb431869"
      },
      "source": [
        "#### Task 6\n",
        "##### Map the values to `0` for non-anomalies and `1` for anomalies.\n",
        "##### Evalulate the model by finding the TPR and TNR\n",
        "#### Result:\n"
      ]
    },
    {
      "cell_type": "code",
      "execution_count": 8,
      "id": "9079ead0",
      "metadata": {
        "colab": {
          "base_uri": "https://localhost:8080/"
        },
        "id": "9079ead0",
        "outputId": "bcceadd3-e80c-467b-c466-626c5620bc00"
      },
      "outputs": [
        {
          "output_type": "stream",
          "name": "stdout",
          "text": [
            "0.8969359331476323\n",
            "0.15294117647058825\n"
          ]
        }
      ],
      "source": [
        "hazard_pred[hazard_pred == 1] = 0\n",
        "hazard_pred[hazard_pred == -1] = 1\n",
        "tn, fp, fn, tp = confusion_matrix(actual_test, hazard_pred).ravel()\n",
        "non_hazard_eval = tn / (tn + fp)\n",
        "print(non_hazard_eval)\n",
        "hazard_eval = tp / (tp + fn)\n",
        "print(hazard_eval)\n"
      ]
    },
    {
      "cell_type": "markdown",
      "id": "1795b255",
      "metadata": {
        "id": "1795b255"
      },
      "source": [
        "#### Exercise 2 ####\n",
        "#### Task 1\n",
        "##### Tune the neighborhood size and find the optimal n_neighbors parameter for the LOF model  \n",
        "##### Plot the TPR and TNR for the range of neighborhood sizes used\n",
        "##### Find the optimal n_neighbor parameter from the plot\n",
        "#### Result:\n"
      ]
    },
    {
      "cell_type": "code",
      "execution_count": 9,
      "id": "02086b36",
      "metadata": {
        "colab": {
          "base_uri": "https://localhost:8080/",
          "height": 1000
        },
        "id": "02086b36",
        "outputId": "1c798ef9-f844-4952-dbae-2b0dda92b5fc"
      },
      "outputs": [
        {
          "output_type": "stream",
          "name": "stderr",
          "text": [
            "/usr/local/lib/python3.10/dist-packages/sklearn/base.py:493: UserWarning: X does not have valid feature names, but LocalOutlierFactor was fitted with feature names\n",
            "  warnings.warn(\n",
            "/usr/local/lib/python3.10/dist-packages/sklearn/base.py:493: UserWarning: X does not have valid feature names, but LocalOutlierFactor was fitted with feature names\n",
            "  warnings.warn(\n",
            "/usr/local/lib/python3.10/dist-packages/sklearn/base.py:493: UserWarning: X does not have valid feature names, but LocalOutlierFactor was fitted with feature names\n",
            "  warnings.warn(\n",
            "/usr/local/lib/python3.10/dist-packages/sklearn/base.py:493: UserWarning: X does not have valid feature names, but LocalOutlierFactor was fitted with feature names\n",
            "  warnings.warn(\n",
            "/usr/local/lib/python3.10/dist-packages/sklearn/base.py:493: UserWarning: X does not have valid feature names, but LocalOutlierFactor was fitted with feature names\n",
            "  warnings.warn(\n",
            "/usr/local/lib/python3.10/dist-packages/sklearn/base.py:493: UserWarning: X does not have valid feature names, but LocalOutlierFactor was fitted with feature names\n",
            "  warnings.warn(\n",
            "/usr/local/lib/python3.10/dist-packages/sklearn/base.py:493: UserWarning: X does not have valid feature names, but LocalOutlierFactor was fitted with feature names\n",
            "  warnings.warn(\n",
            "/usr/local/lib/python3.10/dist-packages/sklearn/base.py:493: UserWarning: X does not have valid feature names, but LocalOutlierFactor was fitted with feature names\n",
            "  warnings.warn(\n",
            "/usr/local/lib/python3.10/dist-packages/sklearn/base.py:493: UserWarning: X does not have valid feature names, but LocalOutlierFactor was fitted with feature names\n",
            "  warnings.warn(\n",
            "/usr/local/lib/python3.10/dist-packages/sklearn/base.py:493: UserWarning: X does not have valid feature names, but LocalOutlierFactor was fitted with feature names\n",
            "  warnings.warn(\n",
            "/usr/local/lib/python3.10/dist-packages/sklearn/base.py:493: UserWarning: X does not have valid feature names, but LocalOutlierFactor was fitted with feature names\n",
            "  warnings.warn(\n",
            "/usr/local/lib/python3.10/dist-packages/sklearn/base.py:493: UserWarning: X does not have valid feature names, but LocalOutlierFactor was fitted with feature names\n",
            "  warnings.warn(\n",
            "/usr/local/lib/python3.10/dist-packages/sklearn/base.py:493: UserWarning: X does not have valid feature names, but LocalOutlierFactor was fitted with feature names\n",
            "  warnings.warn(\n",
            "/usr/local/lib/python3.10/dist-packages/sklearn/base.py:493: UserWarning: X does not have valid feature names, but LocalOutlierFactor was fitted with feature names\n",
            "  warnings.warn(\n",
            "/usr/local/lib/python3.10/dist-packages/sklearn/base.py:493: UserWarning: X does not have valid feature names, but LocalOutlierFactor was fitted with feature names\n",
            "  warnings.warn(\n",
            "/usr/local/lib/python3.10/dist-packages/sklearn/base.py:493: UserWarning: X does not have valid feature names, but LocalOutlierFactor was fitted with feature names\n",
            "  warnings.warn(\n",
            "/usr/local/lib/python3.10/dist-packages/sklearn/base.py:493: UserWarning: X does not have valid feature names, but LocalOutlierFactor was fitted with feature names\n",
            "  warnings.warn(\n",
            "/usr/local/lib/python3.10/dist-packages/sklearn/base.py:493: UserWarning: X does not have valid feature names, but LocalOutlierFactor was fitted with feature names\n",
            "  warnings.warn(\n"
          ]
        },
        {
          "output_type": "display_data",
          "data": {
            "text/plain": [
              "<Figure size 500x500 with 1 Axes>"
            ],
            "image/png": "[encoded data removed]"
          },
          "metadata": {}
        }
      ],
      "source": [
        "lof_df = pd.DataFrame()\n",
        "for neighbor in range(3,21):\n",
        "    lof = LocalOutlierFactor(n_neighbors = neighbor, metric = \"manhattan\", novelty = True)\n",
        "    lof.fit(non_hazard)\n",
        "    hazard_pred = lof.predict(test.iloc[:,:-1])\n",
        "    hazard_pred[hazard_pred == 1] = 0\n",
        "    hazard_pred[hazard_pred == -1] = 1\n",
        "    tn, fp, fn, tp = confusion_matrix(actual_test, hazard_pred).ravel()\n",
        "    non_hazard_eval = tn / (tn + fp)\n",
        "    hazard_eval = tp / (tp + fn)\n",
        "    values  =  [neighbor,non_hazard_eval,hazard_eval]\n",
        "    values = pd.DataFrame(values).T\n",
        "    lof_df = pd.concat([lof_df,values])\n",
        "lof_df.columns=['Neighbor','TNR','TPR']\n",
        "plt.figure(figsize=(5,5))\n",
        "plt.plot(lof_df['Neighbor'],lof_df['TNR'], label = 'TNR')\n",
        "plt.plot(lof_df['Neighbor'],lof_df['TPR'], label = 'TPR')\n",
        "plt.xlabel('Neighbor')\n",
        "plt.ylabel('Score')\n",
        "plt.legend(loc=\"lower right\")\n",
        "plt.show()\n",
        "#We see that TPR and TNR are high around 3 neighbors.\n"
      ]
    },
    {
      "cell_type": "markdown",
      "id": "84325654",
      "metadata": {
        "id": "84325654"
      },
      "source": [
        "#### Task 2\n",
        "##### Tune the contamination and find the optimal contamination parameter for the LOF model.\n",
        "##### Plot the TPR and TNR for the all the contamination values used.\n",
        "##### Find the optimal contamination parameter from the plot.\n",
        "#### Result:\n"
      ]
    },
    {
      "cell_type": "code",
      "execution_count": 10,
      "id": "b4379d75",
      "metadata": {
        "colab": {
          "base_uri": "https://localhost:8080/",
          "height": 747
        },
        "id": "b4379d75",
        "outputId": "7aa2910d-bde7-4204-f5f9-9f58f170afde"
      },
      "outputs": [
        {
          "output_type": "stream",
          "name": "stderr",
          "text": [
            "/usr/local/lib/python3.10/dist-packages/sklearn/base.py:493: UserWarning: X does not have valid feature names, but LocalOutlierFactor was fitted with feature names\n",
            "  warnings.warn(\n",
            "/usr/local/lib/python3.10/dist-packages/sklearn/base.py:493: UserWarning: X does not have valid feature names, but LocalOutlierFactor was fitted with feature names\n",
            "  warnings.warn(\n",
            "/usr/local/lib/python3.10/dist-packages/sklearn/base.py:493: UserWarning: X does not have valid feature names, but LocalOutlierFactor was fitted with feature names\n",
            "  warnings.warn(\n",
            "/usr/local/lib/python3.10/dist-packages/sklearn/base.py:493: UserWarning: X does not have valid feature names, but LocalOutlierFactor was fitted with feature names\n",
            "  warnings.warn(\n",
            "/usr/local/lib/python3.10/dist-packages/sklearn/base.py:493: UserWarning: X does not have valid feature names, but LocalOutlierFactor was fitted with feature names\n",
            "  warnings.warn(\n",
            "/usr/local/lib/python3.10/dist-packages/sklearn/base.py:493: UserWarning: X does not have valid feature names, but LocalOutlierFactor was fitted with feature names\n",
            "  warnings.warn(\n",
            "/usr/local/lib/python3.10/dist-packages/sklearn/base.py:493: UserWarning: X does not have valid feature names, but LocalOutlierFactor was fitted with feature names\n",
            "  warnings.warn(\n",
            "/usr/local/lib/python3.10/dist-packages/sklearn/base.py:493: UserWarning: X does not have valid feature names, but LocalOutlierFactor was fitted with feature names\n",
            "  warnings.warn(\n"
          ]
        },
        {
          "output_type": "display_data",
          "data": {
            "text/plain": [
              "<Figure size 640x480 with 1 Axes>"
            ],
            "image/png": "[encoded data removed]"
          },
          "metadata": {}
        }
      ],
      "source": [
        "contamination_values = [0.01,0.03,0.05,0.1,0.2,0.3,0.4,0.5]\n",
        "lof_df = pd.DataFrame()\n",
        "for contamination_value in contamination_values:\n",
        "    lof = LocalOutlierFactor(n_neighbors = 20, metric = \"manhattan\",contamination = contamination_value, novelty = True)\n",
        "    lof.fit(non_hazard)\n",
        "    hazard_pred = lof.predict(test.iloc[:,:-1])\n",
        "    hazard_pred[hazard_pred == 1] = 0\n",
        "    hazard_pred[hazard_pred == -1] = 1\n",
        "    tn, fp, fn, tp = confusion_matrix(actual_test, hazard_pred).ravel()\n",
        "    non_hazard_eval = tn / (tn + fp)\n",
        "    hazard_eval = tp / (tp + fn)\n",
        "    values  =  [contamination_value,non_hazard_eval,hazard_eval]\n",
        "    values = pd.DataFrame(values).T\n",
        "    lof_df = pd.concat([lof_df,values])\n",
        "lof_df.columns=['Contamination','TNR','TPR']\n",
        "plt.plot(lof_df['Contamination'],lof_df['TNR'], label = 'TNR')\n",
        "plt.plot(lof_df['Contamination'],lof_df['TPR'], label = 'TPR')\n",
        "plt.xlabel('Contamination')\n",
        "plt.ylabel('Score')\n",
        "plt.legend(loc=\"lower right\")\n",
        "plt.show()\n",
        "#We see that both TPR and TNR are high around 0.2.\n"
      ]
    },
    {
      "cell_type": "markdown",
      "id": "821dfad5",
      "metadata": {
        "id": "821dfad5"
      },
      "source": [
        "#### Task 3\n",
        "##### Fit the LOF model with the optimal parameters\n",
        "##### Evaluate this model by finding the TPR and TNR on hazard test dataset\n",
        "##### Load the `ex_performance_anomalies.sav` pickle file from the data folder and the scores of the LOF model\n",
        "#### Result:\n"
      ]
    },
    {
      "cell_type": "code",
      "execution_count": 17,
      "id": "78cb0075",
      "metadata": {
        "colab": {
          "base_uri": "https://localhost:8080/",
          "height": 389
        },
        "id": "78cb0075",
        "outputId": "23a53c16-5d55-407e-99ec-b3ab2ccd527d"
      },
      "outputs": [
        {
          "output_type": "stream",
          "name": "stdout",
          "text": [
            "0.8036211699164345\n",
            "0.27058823529411763\n"
          ]
        },
        {
          "output_type": "stream",
          "name": "stderr",
          "text": [
            "/usr/local/lib/python3.10/dist-packages/sklearn/base.py:493: UserWarning: X does not have valid feature names, but LocalOutlierFactor was fitted with feature names\n",
            "  warnings.warn(\n"
          ]
        },
        {
          "output_type": "execute_result",
          "data": {
            "text/plain": [
              "               model_name       TPR       TNR         0\n",
              "0  Decision_tree_baseline  0.671642  0.999667       NaN\n",
              "1                   SMOTE  0.850746  0.992499       NaN\n",
              "2                     NaN       NaN       NaN       LOF\n",
              "3                     NaN       NaN       NaN  0.740909\n",
              "4                     NaN       NaN       NaN  0.901284\n",
              "5                     NaN       NaN       NaN       LOF\n",
              "6                     NaN       NaN       NaN  0.270588\n",
              "7                     NaN       NaN       NaN  0.803621"
            ],
            "text/html": [
              "\n",
              "  <div id=\"df-6eb3da2b-cfe8-4d23-a2a9-27eea3be8b0c\" class=\"colab-df-container\">\n",
              "    <div>\n",
              "<style scoped>\n",
              "    .dataframe tbody tr th:only-of-type {\n",
              "        vertical-align: middle;\n",
              "    }\n",
              "\n",
              "    .dataframe tbody tr th {\n",
              "        vertical-align: top;\n",
              "    }\n",
              "\n",
              "    .dataframe thead th {\n",
              "        text-align: right;\n",
              "    }\n",
              "</style>\n",
              "<table border=\"1\" class=\"dataframe\">\n",
              "  <thead>\n",
              "    <tr style=\"text-align: right;\">\n",
              "      <th></th>\n",
              "      <th>model_name</th>\n",
              "      <th>TPR</th>\n",
              "      <th>TNR</th>\n",
              "      <th>0</th>\n",
              "    </tr>\n",
              "  </thead>\n",
              "  <tbody>\n",
              "    <tr>\n",
              "      <th>0</th>\n",
              "      <td>Decision_tree_baseline</td>\n",
              "      <td>0.671642</td>\n",
              "      <td>0.999667</td>\n",
              "      <td>NaN</td>\n",
              "    </tr>\n",
              "    <tr>\n",
              "      <th>1</th>\n",
              "      <td>SMOTE</td>\n",
              "      <td>0.850746</td>\n",
              "      <td>0.992499</td>\n",
              "      <td>NaN</td>\n",
              "    </tr>\n",
              "    <tr>\n",
              "      <th>2</th>\n",
              "      <td>NaN</td>\n",
              "      <td>NaN</td>\n",
              "      <td>NaN</td>\n",
              "      <td>LOF</td>\n",
              "    </tr>\n",
              "    <tr>\n",
              "      <th>3</th>\n",
              "      <td>NaN</td>\n",
              "      <td>NaN</td>\n",
              "      <td>NaN</td>\n",
              "      <td>0.740909</td>\n",
              "    </tr>\n",
              "    <tr>\n",
              "      <th>4</th>\n",
              "      <td>NaN</td>\n",
              "      <td>NaN</td>\n",
              "      <td>NaN</td>\n",
              "      <td>0.901284</td>\n",
              "    </tr>\n",
              "    <tr>\n",
              "      <th>5</th>\n",
              "      <td>NaN</td>\n",
              "      <td>NaN</td>\n",
              "      <td>NaN</td>\n",
              "      <td>LOF</td>\n",
              "    </tr>\n",
              "    <tr>\n",
              "      <th>6</th>\n",
              "      <td>NaN</td>\n",
              "      <td>NaN</td>\n",
              "      <td>NaN</td>\n",
              "      <td>0.270588</td>\n",
              "    </tr>\n",
              "    <tr>\n",
              "      <th>7</th>\n",
              "      <td>NaN</td>\n",
              "      <td>NaN</td>\n",
              "      <td>NaN</td>\n",
              "      <td>0.803621</td>\n",
              "    </tr>\n",
              "  </tbody>\n",
              "</table>\n",
              "</div>\n",
              "    <div class=\"colab-df-buttons\">\n",
              "\n",
              "  <div class=\"colab-df-container\">\n",
              "    <button class=\"colab-df-convert\" onclick=\"convertToInteractive('df-6eb3da2b-cfe8-4d23-a2a9-27eea3be8b0c')\"\n",
              "            title=\"Convert this dataframe to an interactive table.\"\n",
              "            style=\"display:none;\">\n",
              "\n",
              "  <svg xmlns=\"http://www.w3.org/2000/svg\" height=\"24px\" viewBox=\"0 -960 960 960\">\n",
              "    <path d=\"M120-120v-720h720v720H120Zm60-500h600v-160H180v160Zm220 220h160v-160H400v160Zm0 220h160v-160H400v160ZM180-400h160v-160H180v160Zm440 0h160v-160H620v160ZM180-180h160v-160H180v160Zm440 0h160v-160H620v160Z\"/>\n",
              "  </svg>\n",
              "    </button>\n",
              "\n",
              "  <style>\n",
              "    .colab-df-container {\n",
              "      display:flex;\n",
              "      gap: 12px;\n",
              "    }\n",
              "\n",
              "    .colab-df-convert {\n",
              "      background-color: #E8F0FE;\n",
              "      border: none;\n",
              "      border-radius: 50%;\n",
              "      cursor: pointer;\n",
              "      display: none;\n",
              "      fill: #1967D2;\n",
              "      height: 32px;\n",
              "      padding: 0 0 0 0;\n",
              "      width: 32px;\n",
              "    }\n",
              "\n",
              "    .colab-df-convert:hover {\n",
              "      background-color: #E2EBFA;\n",
              "      box-shadow: 0px 1px 2px rgba(60, 64, 67, 0.3), 0px 1px 3px 1px rgba(60, 64, 67, 0.15);\n",
              "      fill: #174EA6;\n",
              "    }\n",
              "\n",
              "    .colab-df-buttons div {\n",
              "      margin-bottom: 4px;\n",
              "    }\n",
              "\n",
              "    [theme=dark] .colab-df-convert {\n",
              "      background-color: #3B4455;\n",
              "      fill: #D2E3FC;\n",
              "    }\n",
              "\n",
              "    [theme=dark] .colab-df-convert:hover {\n",
              "      background-color: #434B5C;\n",
              "      box-shadow: 0px 1px 3px 1px rgba(0, 0, 0, 0.15);\n",
              "      filter: drop-shadow(0px 1px 2px rgba(0, 0, 0, 0.3));\n",
              "      fill: #FFFFFF;\n",
              "    }\n",
              "  </style>\n",
              "\n",
              "    <script>\n",
              "      const buttonEl =\n",
              "        document.querySelector('#df-6eb3da2b-cfe8-4d23-a2a9-27eea3be8b0c button.colab-df-convert');\n",
              "      buttonEl.style.display =\n",
              "        google.colab.kernel.accessAllowed ? 'block' : 'none';\n",
              "\n",
              "      async function convertToInteractive(key) {\n",
              "        const element = document.querySelector('#df-6eb3da2b-cfe8-4d23-a2a9-27eea3be8b0c');\n",
              "        const dataTable =\n",
              "          await google.colab.kernel.invokeFunction('convertToInteractive',\n",
              "                                                    [key], {});\n",
              "        if (!dataTable) return;\n",
              "\n",
              "        const docLinkHtml = 'Like what you see? Visit the ' +\n",
              "          '<a target=\"_blank\" href=https://colab.research.google.com/notebooks/data_table.ipynb>data table notebook</a>'\n",
              "          + ' to learn more about interactive tables.';\n",
              "        element.innerHTML = '';\n",
              "        dataTable['output_type'] = 'display_data';\n",
              "        await google.colab.output.renderOutput(dataTable, element);\n",
              "        const docLink = document.createElement('div');\n",
              "        docLink.innerHTML = docLinkHtml;\n",
              "        element.appendChild(docLink);\n",
              "      }\n",
              "    </script>\n",
              "  </div>\n",
              "\n",
              "\n",
              "<div id=\"df-bdd7f668-3a56-4d67-a530-7bd605e19afb\">\n",
              "  <button class=\"colab-df-quickchart\" onclick=\"quickchart('df-bdd7f668-3a56-4d67-a530-7bd605e19afb')\"\n",
              "            title=\"Suggest charts\"\n",
              "            style=\"display:none;\">\n",
              "\n",
              "<svg xmlns=\"http://www.w3.org/2000/svg\" height=\"24px\"viewBox=\"0 0 24 24\"\n",
              "     width=\"24px\">\n",
              "    <g>\n",
              "        <path d=\"M19 3H5c-1.1 0-2 .9-2 2v14c0 1.1.9 2 2 2h14c1.1 0 2-.9 2-2V5c0-1.1-.9-2-2-2zM9 17H7v-7h2v7zm4 0h-2V7h2v10zm4 0h-2v-4h2v4z\"/>\n",
              "    </g>\n",
              "</svg>\n",
              "  </button>\n",
              "\n",
              "<style>\n",
              "  .colab-df-quickchart {\n",
              "      --bg-color: #E8F0FE;\n",
              "      --fill-color: #1967D2;\n",
              "      --hover-bg-color: #E2EBFA;\n",
              "      --hover-fill-color: #174EA6;\n",
              "      --disabled-fill-color: #AAA;\n",
              "      --disabled-bg-color: #DDD;\n",
              "  }\n",
              "\n",
              "  [theme=dark] .colab-df-quickchart {\n",
              "      --bg-color: #3B4455;\n",
              "      --fill-color: #D2E3FC;\n",
              "      --hover-bg-color: #434B5C;\n",
              "      --hover-fill-color: #FFFFFF;\n",
              "      --disabled-bg-color: #3B4455;\n",
              "      --disabled-fill-color: #666;\n",
              "  }\n",
              "\n",
              "  .colab-df-quickchart {\n",
              "    background-color: var(--bg-color);\n",
              "    border: none;\n",
              "    border-radius: 50%;\n",
              "    cursor: pointer;\n",
              "    display: none;\n",
              "    fill: var(--fill-color);\n",
              "    height: 32px;\n",
              "    padding: 0;\n",
              "    width: 32px;\n",
              "  }\n",
              "\n",
              "  .colab-df-quickchart:hover {\n",
              "    background-color: var(--hover-bg-color);\n",
              "    box-shadow: 0 1px 2px rgba(60, 64, 67, 0.3), 0 1px 3px 1px rgba(60, 64, 67, 0.15);\n",
              "    fill: var(--button-hover-fill-color);\n",
              "  }\n",
              "\n",
              "  .colab-df-quickchart-complete:disabled,\n",
              "  .colab-df-quickchart-complete:disabled:hover {\n",
              "    background-color: var(--disabled-bg-color);\n",
              "    fill: var(--disabled-fill-color);\n",
              "    box-shadow: none;\n",
              "  }\n",
              "\n",
              "  .colab-df-spinner {\n",
              "    border: 2px solid var(--fill-color);\n",
              "    border-color: transparent;\n",
              "    border-bottom-color: var(--fill-color);\n",
              "    animation:\n",
              "      spin 1s steps(1) infinite;\n",
              "  }\n",
              "\n",
              "  @keyframes spin {\n",
              "    0% {\n",
              "      border-color: transparent;\n",
              "      border-bottom-color: var(--fill-color);\n",
              "      border-left-color: var(--fill-color);\n",
              "    }\n",
              "    20% {\n",
              "      border-color: transparent;\n",
              "      border-left-color: var(--fill-color);\n",
              "      border-top-color: var(--fill-color);\n",
              "    }\n",
              "    30% {\n",
              "      border-color: transparent;\n",
              "      border-left-color: var(--fill-color);\n",
              "      border-top-color: var(--fill-color);\n",
              "      border-right-color: var(--fill-color);\n",
              "    }\n",
              "    40% {\n",
              "      border-color: transparent;\n",
              "      border-right-color: var(--fill-color);\n",
              "      border-top-color: var(--fill-color);\n",
              "    }\n",
              "    60% {\n",
              "      border-color: transparent;\n",
              "      border-right-color: var(--fill-color);\n",
              "    }\n",
              "    80% {\n",
              "      border-color: transparent;\n",
              "      border-right-color: var(--fill-color);\n",
              "      border-bottom-color: var(--fill-color);\n",
              "    }\n",
              "    90% {\n",
              "      border-color: transparent;\n",
              "      border-bottom-color: var(--fill-color);\n",
              "    }\n",
              "  }\n",
              "</style>\n",
              "\n",
              "  <script>\n",
              "    async function quickchart(key) {\n",
              "      const quickchartButtonEl =\n",
              "        document.querySelector('#' + key + ' button');\n",
              "      quickchartButtonEl.disabled = true;  // To prevent multiple clicks.\n",
              "      quickchartButtonEl.classList.add('colab-df-spinner');\n",
              "      try {\n",
              "        const charts = await google.colab.kernel.invokeFunction(\n",
              "            'suggestCharts', [key], {});\n",
              "      } catch (error) {\n",
              "        console.error('Error during call to suggestCharts:', error);\n",
              "      }\n",
              "      quickchartButtonEl.classList.remove('colab-df-spinner');\n",
              "      quickchartButtonEl.classList.add('colab-df-quickchart-complete');\n",
              "    }\n",
              "    (() => {\n",
              "      let quickchartButtonEl =\n",
              "        document.querySelector('#df-bdd7f668-3a56-4d67-a530-7bd605e19afb button');\n",
              "      quickchartButtonEl.style.display =\n",
              "        google.colab.kernel.accessAllowed ? 'block' : 'none';\n",
              "    })();\n",
              "  </script>\n",
              "</div>\n",
              "\n",
              "  <div id=\"id_37ba375e-9426-435f-83f6-29173dc3b363\">\n",
              "    <style>\n",
              "      .colab-df-generate {\n",
              "        background-color: #E8F0FE;\n",
              "        border: none;\n",
              "        border-radius: 50%;\n",
              "        cursor: pointer;\n",
              "        display: none;\n",
              "        fill: #1967D2;\n",
              "        height: 32px;\n",
              "        padding: 0 0 0 0;\n",
              "        width: 32px;\n",
              "      }\n",
              "\n",
              "      .colab-df-generate:hover {\n",
              "        background-color: #E2EBFA;\n",
              "        box-shadow: 0px 1px 2px rgba(60, 64, 67, 0.3), 0px 1px 3px 1px rgba(60, 64, 67, 0.15);\n",
              "        fill: #174EA6;\n",
              "      }\n",
              "\n",
              "      [theme=dark] .colab-df-generate {\n",
              "        background-color: #3B4455;\n",
              "        fill: #D2E3FC;\n",
              "      }\n",
              "\n",
              "      [theme=dark] .colab-df-generate:hover {\n",
              "        background-color: #434B5C;\n",
              "        box-shadow: 0px 1px 3px 1px rgba(0, 0, 0, 0.15);\n",
              "        filter: drop-shadow(0px 1px 2px rgba(0, 0, 0, 0.3));\n",
              "        fill: #FFFFFF;\n",
              "      }\n",
              "    </style>\n",
              "    <button class=\"colab-df-generate\" onclick=\"generateWithVariable('performance_df_ex')\"\n",
              "            title=\"Generate code using this dataframe.\"\n",
              "            style=\"display:none;\">\n",
              "\n",
              "  <svg xmlns=\"http://www.w3.org/2000/svg\" height=\"24px\"viewBox=\"0 0 24 24\"\n",
              "       width=\"24px\">\n",
              "    <path d=\"M7,19H8.4L18.45,9,17,7.55,7,17.6ZM5,21V16.75L18.45,3.32a2,2,0,0,1,2.83,0l1.4,1.43a1.91,1.91,0,0,1,.58,1.4,1.91,1.91,0,0,1-.58,1.4L9.25,21ZM18.45,9,17,7.55Zm-12,3A5.31,5.31,0,0,0,4.9,8.1,5.31,5.31,0,0,0,1,6.5,5.31,5.31,0,0,0,4.9,4.9,5.31,5.31,0,0,0,6.5,1,5.31,5.31,0,0,0,8.1,4.9,5.31,5.31,0,0,0,12,6.5,5.46,5.46,0,0,0,6.5,12Z\"/>\n",
              "  </svg>\n",
              "    </button>\n",
              "    <script>\n",
              "      (() => {\n",
              "      const buttonEl =\n",
              "        document.querySelector('#id_37ba375e-9426-435f-83f6-29173dc3b363 button.colab-df-generate');\n",
              "      buttonEl.style.display =\n",
              "        google.colab.kernel.accessAllowed ? 'block' : 'none';\n",
              "\n",
              "      buttonEl.onclick = () => {\n",
              "        google.colab.notebook.generateWithVariable('performance_df_ex');\n",
              "      }\n",
              "      })();\n",
              "    </script>\n",
              "  </div>\n",
              "\n",
              "    </div>\n",
              "  </div>\n"
            ],
            "application/vnd.google.colaboratory.intrinsic+json": {
              "type": "dataframe",
              "variable_name": "performance_df_ex",
              "summary": "{\n  \"name\": \"performance_df_ex\",\n  \"rows\": 8,\n  \"fields\": [\n    {\n      \"column\": \"model_name\",\n      \"properties\": {\n        \"dtype\": \"category\",\n        \"num_unique_values\": 2,\n        \"samples\": [\n          \"SMOTE\",\n          \"Decision_tree_baseline\"\n        ],\n        \"semantic_type\": \"\",\n        \"description\": \"\"\n      }\n    },\n    {\n      \"column\": \"TPR\",\n      \"properties\": {\n        \"dtype\": \"number\",\n        \"std\": 0.12664599066027715,\n        \"min\": 0.6716417910447762,\n        \"max\": 0.8507462686567164,\n        \"num_unique_values\": 2,\n        \"samples\": [\n          0.8507462686567164,\n          0.6716417910447762\n        ],\n        \"semantic_type\": \"\",\n        \"description\": \"\"\n      }\n    },\n    {\n      \"column\": \"TNR\",\n      \"properties\": {\n        \"dtype\": \"number\",\n        \"std\": 0.005068443339060125,\n        \"min\": 0.9924987497916319,\n        \"max\": 0.9996666111018503,\n        \"num_unique_values\": 2,\n        \"samples\": [\n          0.9924987497916319,\n          0.9996666111018503\n        ],\n        \"semantic_type\": \"\",\n        \"description\": \"\"\n      }\n    },\n    {\n      \"column\": 0,\n      \"properties\": {\n        \"dtype\": \"string\",\n        \"num_unique_values\": 5,\n        \"samples\": [\n          0.740909090909091,\n          0.8036211699164345\n        ],\n        \"semantic_type\": \"\",\n        \"description\": \"\"\n      }\n    }\n  ]\n}"
            }
          },
          "metadata": {},
          "execution_count": 17
        }
      ],
      "source": [
        "lof = LocalOutlierFactor(n_neighbors = 3, metric = \"manhattan\", contamination = 0.2, novelty = True)\n",
        "# model fitting\n",
        "lof.fit(non_hazard)\n",
        "hazard_pred = lof.predict(test.iloc[:,:-1])\n",
        "hazard_pred[hazard_pred == 1] = 0\n",
        "hazard_pred[hazard_pred == -1] = 1\n",
        "tn, fp, fn, tp = confusion_matrix(actual_test, hazard_pred).ravel()\n",
        "non_hazard_eval = tn / (tn + fp)\n",
        "print(non_hazard_eval)\n",
        "hazard_eval = tp / (tp + fn)\n",
        "print(hazard_eval)\n",
        "performance_df_ex = pickle.load(open(str(data_dir) + '/performance_anomalies.sav',\"rb\"))\n",
        "s = pd.Series(['LOF', hazard_eval, non_hazard_eval], index=['model_name', 'TPR', 'TNR'])\n",
        "performance_df_ex = pd.concat([performance_df_ex, s], ignore_index=True)\n",
        "performance_df_ex\n"
      ]
    },
    {
      "cell_type": "markdown",
      "id": "e8d52089",
      "metadata": {
        "id": "e8d52089"
      },
      "source": [
        "#### Task 4\n",
        "##### Save `performance_df_ex`, `non_hazard`, `test` and `actual_test` as pickle files `ex_performance_anomalies.sav`, `non_hazard.sav`, `test.sav` and `actual_test.sav` respectively for the following exercises.\n",
        "#### Result:\n"
      ]
    },
    {
      "cell_type": "code",
      "execution_count": 18,
      "id": "767d4c08",
      "metadata": {
        "id": "767d4c08"
      },
      "outputs": [],
      "source": [
        "pickle.dump(performance_df_ex, open(str(data_dir) + \"/ex_performance_anomalies.sav\",\"wb\" ))\n",
        "pickle.dump(non_hazard, open(str(data_dir) + \"/non_hazard.sav\",\"wb\" ))\n",
        "pickle.dump(test, open(str(data_dir) + \"/test.sav\",\"wb\" ))\n",
        "pickle.dump(actual_test, open(str(data_dir) + \"/actual_test.sav\",\"wb\" ))\n"
      ]
    },
    {
      "cell_type": "markdown",
      "id": "40201923",
      "metadata": {
        "id": "40201923"
      },
      "source": [
        "## ANOMALY DETECTION DAY 2/ANOMALY DETECTION PART 4 EXERCISE ANSWERS ##\n",
        "#### Exercise 3 ####\n",
        "#### Task 1\n",
        "##### Import the required packages\n",
        "##### Set the working directory to data directory\n",
        "##### Print the working directory and the plot directory\n",
        "#### Result:\n"
      ]
    },
    {
      "cell_type": "code",
      "execution_count": null,
      "id": "58108c4b",
      "metadata": {
        "id": "58108c4b"
      },
      "outputs": [],
      "source": [
        "import os\n",
        "import pandas as pd\n",
        "import numpy as np\n",
        "import matplotlib.pyplot as plt\n",
        "import pickle\n",
        "from sklearn import metrics\n",
        "from sklearn.model_selection import train_test_split\n",
        "from sklearn.metrics import confusion_matrix, roc_auc_score\n",
        "from sklearn.neighbors import LocalOutlierFactor\n",
        "from sklearn.svm import OneClassSVM\n",
        "from sklearn.ensemble import IsolationForest\n",
        "# Set 'main_dir' to location of the project folder\n",
        "from pathlib import Path\n",
        "home_dir = Path(\".\").resolve()\n",
        "main_dir = home_dir.parent\n",
        "print(main_dir)\n",
        "data_dir = str(main_dir) + \"/data\"\n",
        "print(data_dir)\n"
      ]
    },
    {
      "cell_type": "markdown",
      "id": "151a0bfb",
      "metadata": {
        "id": "151a0bfb"
      },
      "source": [
        "##### Task 2\n",
        "##### Load pickled files from the previous exercises `ex_performance_anomalies.sav`, `non_hazard.sav`, `test.sav` and `actual_test.sav` as `performance_df_ex`, `non_hazard`, `test` and `actual_test` respectively.\n",
        "#### Result:\n"
      ]
    },
    {
      "cell_type": "code",
      "execution_count": null,
      "id": "9b847221",
      "metadata": {
        "id": "9b847221"
      },
      "outputs": [],
      "source": [
        "performance_df_ex = pickle.load(open((str(data_dir) + \"/ex_performance_anomalies.sav\"),\"rb\"))\n",
        "non_hazard = pickle.load(open((str(data_dir) + \"/non_hazard.sav\"),\"rb\"))\n",
        "test = pickle.load(open((str(data_dir) + \"/test.sav\"),\"rb\"))\n",
        "actual_test = pickle.load(open((str(data_dir) + \"/actual_test.sav\"),\"rb\"))\n"
      ]
    },
    {
      "cell_type": "markdown",
      "id": "eda63d09",
      "metadata": {
        "id": "eda63d09"
      },
      "source": [
        "#### Task 3\n",
        "##### Load `PJM_Load_hourly.csv` dataset and print the head. Save as `pjm_load`.\n",
        "##### Convert `Datatime` variable from type `object` to `datetime`. Check its datatype after type-conversion\n",
        "##### Filter the data to include values post year 2000\n",
        "##### Visualize the timeseries data using a lineplot\n",
        "#### Result:\n"
      ]
    },
    {
      "cell_type": "code",
      "execution_count": null,
      "id": "3dca1ea3",
      "metadata": {
        "id": "3dca1ea3"
      },
      "outputs": [],
      "source": [
        "pjm_load = pd.read_csv(str(data_dir)+\"/PJM_Load_hourly.csv\")\n",
        "pjm_load.head()\n",
        "pjm_load['Datetime'] = pd.to_datetime(pjm_load['Datetime'])\n",
        "pjm_load.info()\n",
        "pjm_load = pjm_load[pjm_load['Datetime'] > '2000-01-01 00:00:00']\n",
        "pjm_load.plot(x='Datetime', y='PJM_Load_MW', figsize=(17,6))\n",
        "plt.xlabel('Date time')\n",
        "plt.ylabel('Energy Consumption')\n",
        "plt.title('Energy consumption - Load combined (MW) at each hour')\n",
        "plt.show()\n"
      ]
    },
    {
      "cell_type": "markdown",
      "id": "bb85e9aa",
      "metadata": {
        "id": "bb85e9aa"
      },
      "source": [
        "#### Task 4\n",
        "##### Fit the LOF model with `n_neighbors: 100` , `contamination: 0.01`  and `novelty: False`\n",
        "##### Predict for anomalies for the variable `PJM_Load_MW` and save the results in the pjm_load dataframe\n",
        "##### Visualize the detected anomalies\n",
        "#### Result:\n"
      ]
    },
    {
      "cell_type": "code",
      "execution_count": null,
      "id": "17bb6d35",
      "metadata": {
        "id": "17bb6d35"
      },
      "outputs": [],
      "source": [
        "lof_energy_model = LocalOutlierFactor(n_neighbors = 100, metric = \"manhattan\", contamination = 0.01, novelty = False)\n",
        "lof_energy_model.fit(pd.DataFrame(pjm_load['PJM_Load_MW']))\n",
        "pjm_load['anomaly'] = lof_energy_model.fit_predict(pd.DataFrame(pjm_load['PJM_Load_MW']))\n",
        "fig, ax = plt.subplots(figsize=(15,5))\n",
        "a = pjm_load.loc[pjm_load['anomaly'] == -1, ['Datetime', 'PJM_Load_MW']] #anomaly\n",
        "ax.plot(pjm_load['Datetime'], pjm_load['PJM_Load_MW'], color='blue', label = 'Normal')\n",
        "ax.scatter(a['Datetime'],a['PJM_Load_MW'], color='red', label = 'Anomaly')\n",
        "plt.legend()\n",
        "plt.show()\n"
      ]
    },
    {
      "cell_type": "markdown",
      "id": "4f2b888e",
      "metadata": {
        "id": "4f2b888e"
      },
      "source": [
        "#### Task 5\n",
        "##### Create variable `lof_upper_anomalies` that has the upper range of anomalies detected using the 75% quantile threshold\n",
        "##### Create variable `lof_lower_anomalies` that has the lower range of anomalies detected using the 25% quantile threshold\n",
        "##### Visualize `lof_upper_anomalies` and `lof_lower_anomalies`\n",
        "#### Result:\n"
      ]
    },
    {
      "cell_type": "code",
      "execution_count": null,
      "id": "e7c48b47",
      "metadata": {
        "id": "e7c48b47"
      },
      "outputs": [],
      "source": [
        "lower_threshold = pjm_load['PJM_Load_MW'].quantile(0.25)\n",
        "upper_threshold = pjm_load['PJM_Load_MW'].quantile(0.75)\n",
        "lof_anomalies = pjm_load[pjm_load['anomaly'] == -1]\n",
        "# Upper range of anomalies\n",
        "lof_upper_anomalies = lof_anomalies[lof_anomalies['PJM_Load_MW'] > upper_threshold]['PJM_Load_MW']\n",
        "# Lower range of anomalies\n",
        "lof_lower_anomalies = lof_anomalies[lof_anomalies['PJM_Load_MW'] < lower_threshold]['PJM_Load_MW']\n",
        "plt.rcParams.update({'font.size': 20})\n",
        "plt.hist(lof_lower_anomalies)\n",
        "plt.xlabel(\"Anomaly points\")\n",
        "plt.ylabel(\"Frequency\")\n",
        "plt.title(\"Lower range of anomalies\")\n",
        "plt.show()\n",
        "plt.hist(lof_upper_anomalies)\n",
        "plt.xlabel(\"Anomaly points\")\n",
        "plt.ylabel(\"Frequency\")\n",
        "plt.title(\"Upper range of anomalies\")\n",
        "plt.show()\n"
      ]
    },
    {
      "cell_type": "markdown",
      "id": "5c13b30e",
      "metadata": {
        "id": "5c13b30e"
      },
      "source": [
        "#### Exercise 4 ####\n",
        "#### Task 1\n",
        "##### Fit an isolation forest with 100 estimators and contamination: 0.1\n",
        "#### Result:\n"
      ]
    },
    {
      "cell_type": "code",
      "execution_count": null,
      "id": "00bb3487",
      "metadata": {
        "id": "00bb3487"
      },
      "outputs": [],
      "source": [
        "iforest = IsolationForest(n_estimators=100, contamination = 0.1)\n",
        "# model fitting\n",
        "iforest.fit(non_hazard)\n"
      ]
    },
    {
      "cell_type": "markdown",
      "id": "aff9f977",
      "metadata": {
        "id": "aff9f977"
      },
      "source": [
        "#### Task 2\n",
        "##### Predict on hazard test data and map the predictions as 0 for non-anomalies and 1 for anomalies\n",
        "#### Result:\n"
      ]
    },
    {
      "cell_type": "code",
      "execution_count": null,
      "id": "6feca15b",
      "metadata": {
        "id": "6feca15b"
      },
      "outputs": [],
      "source": [
        "hazard_pred = iforest.predict(test.iloc[:,:-1])\n",
        "hazard_pred[:5]\n",
        "hazard_pred[hazard_pred == 1] = 0\n",
        "hazard_pred[hazard_pred == -1] = 1\n"
      ]
    },
    {
      "cell_type": "markdown",
      "id": "1f3a6263",
      "metadata": {
        "id": "1f3a6263"
      },
      "source": [
        "#### Task 3\n",
        "##### Evaluate the model using TPR and TNR\n",
        "##### Append the scores to the `performance_df_ex` dataframe\n",
        "#### Result:\n"
      ]
    },
    {
      "cell_type": "code",
      "execution_count": null,
      "id": "2e31cd79",
      "metadata": {
        "id": "2e31cd79"
      },
      "outputs": [],
      "source": [
        "tn, fp, fn, tp = confusion_matrix(actual_test, hazard_pred).ravel()\n",
        "non_hazard_eval = tn / (tn + fp)\n",
        "print(non_hazard_eval)\n",
        "hazard_eval = tp / (tp + fn)\n",
        "print(hazard_eval)\n",
        "s = pd.Series(['Isolation Forest', hazard_eval, non_hazard_eval],\n",
        "              index=['model_name', 'TPR', 'TNR'])\n",
        "performance_df_ex = pd.concat([performance_df_ex, s], ignore_index=True)\n",
        "performance_df_ex\n"
      ]
    },
    {
      "cell_type": "markdown",
      "id": "041e00d9",
      "metadata": {
        "id": "041e00d9"
      },
      "source": [
        "#### Exercise 5 ####\n",
        "#### Task 1\n",
        "##### Fit an isolation forest with 100 estimators and contamination: 0.01 on `pjm_load` time series data\n",
        "##### Predict for anomalies on `PJM_Load_MW` variable and save the results as a column in the pjm_load dataframe\n",
        "##### Visualize the detected anomalies\n",
        "#### Result:\n"
      ]
    },
    {
      "cell_type": "code",
      "execution_count": null,
      "id": "611bb740",
      "metadata": {
        "id": "611bb740"
      },
      "outputs": [],
      "source": [
        "isolation_energy = IsolationForest(n_estimators=100, contamination = 0.01)\n",
        "# model fitting\n",
        "isolation_energy.fit(pd.DataFrame(pjm_load['PJM_Load_MW']))\n",
        "pjm_load['anomaly'] = isolation_energy.predict(pd.DataFrame(pjm_load['PJM_Load_MW']))\n",
        "# visualization\n",
        "fig, ax = plt.subplots(figsize=(15,5))\n",
        "a = pjm_load.loc[pjm_load['anomaly'] == -1, ['Datetime', 'PJM_Load_MW']] #anomaly\n",
        "ax.plot(pjm_load['Datetime'], pjm_load['PJM_Load_MW'], color='blue', label = 'Normal')\n",
        "ax.scatter(a['Datetime'],a['PJM_Load_MW'], color='red', label = 'Anomaly')\n",
        "plt.legend()\n",
        "plt.show()\n"
      ]
    },
    {
      "cell_type": "markdown",
      "id": "c34dfd7b",
      "metadata": {
        "id": "c34dfd7b"
      },
      "source": [
        "#### Task 2\n",
        "##### Create variable `if_upper_anomalies` that has the upper range of anomalies detected using the 75% quantile threshold\n",
        "##### Create variable `if_lower_anomalies` that has the lower range of anomalies detected using the 25% quantile threshold\n",
        "##### Visualize `if_upper_anomalies` and `if_lower_anomalies`\n",
        "#### Result:\n"
      ]
    },
    {
      "cell_type": "code",
      "execution_count": null,
      "id": "5fa93a3c",
      "metadata": {
        "id": "5fa93a3c"
      },
      "outputs": [],
      "source": [
        "# visualization\n",
        "lower_threshold = pjm_load['PJM_Load_MW'].quantile(0.25)\n",
        "upper_threshold = pjm_load['PJM_Load_MW'].quantile(0.75)\n",
        "if_anomalies = pjm_load[pjm_load['anomaly'] == -1]\n",
        "if_upper_anomalies = if_anomalies[if_anomalies['PJM_Load_MW'] > upper_threshold]['PJM_Load_MW']\n",
        "if_lower_anomalies = if_anomalies[if_anomalies['PJM_Load_MW'] < lower_threshold]['PJM_Load_MW']\n",
        "plt.hist(if_lower_anomalies)\n",
        "plt.xlabel(\"Anomaly points\")\n",
        "plt.ylabel(\"Frequency\")\n",
        "plt.title(\"Lower range of anomalies\")\n",
        "plt.show()\n",
        "plt.hist(if_upper_anomalies)\n",
        "plt.xlabel(\"Anomaly points\")\n",
        "plt.ylabel(\"Frequency\")\n",
        "plt.title(\"Upper range of anomalies\")\n",
        "plt.show()\n"
      ]
    },
    {
      "cell_type": "markdown",
      "id": "7d04ca0b",
      "metadata": {
        "id": "7d04ca0b"
      },
      "source": [
        "#### Task 3\n",
        "##### Compare the anomalies detected from LOF and Isolation Forest\n",
        "##### Create a comparison plot for the lower range of anomalies\n",
        "##### Create a comparison plot for the upper range of anomalies\n",
        "#### Result:\n"
      ]
    },
    {
      "cell_type": "code",
      "execution_count": null,
      "id": "30110eb9",
      "metadata": {
        "id": "30110eb9"
      },
      "outputs": [],
      "source": [
        "plt.hist(lof_upper_anomalies,alpha = 0.5,label='LOF anomalies')\n",
        "plt.hist(if_upper_anomalies,alpha = 0.5,label='IF anomalies')\n",
        "plt.title('Upper range of anomalies')\n",
        "plt.legend(loc='upper right')\n",
        "plt.show()\n",
        "plt.hist(lof_lower_anomalies,alpha = 0.5,label='LOF anomalies')\n",
        "plt.hist(if_lower_anomalies,alpha = 0.5,label='IF anomalies')\n",
        "plt.title('Lower range of anomalies')\n",
        "plt.legend(loc='upper right')\n",
        "plt.show()\n"
      ]
    },
    {
      "cell_type": "markdown",
      "id": "c4fdb89c",
      "metadata": {
        "id": "c4fdb89c"
      },
      "source": [
        "#### Task 4\n",
        "##### Save the `performance_df_ex` as a pickle file `ex_performance_anomalies.sav`\n",
        "#### Result:\n"
      ]
    },
    {
      "cell_type": "code",
      "execution_count": null,
      "id": "2ff047fe",
      "metadata": {
        "id": "2ff047fe"
      },
      "outputs": [],
      "source": [
        "pickle.dump(performance_df_ex, open(str(data_dir) + \"/ex_performance_anomalies.sav\",\"wb\" ))\n"
      ]
    }
  ],
  "metadata": {
    "language": "python",
    "colab": {
      "provenance": [],
      "include_colab_link": true
    },
    "language_info": {
      "name": "python"
    },
    "kernelspec": {
      "name": "python3",
      "display_name": "Python 3"
    }
  },
  "nbformat": 4,
  "nbformat_minor": 5
}